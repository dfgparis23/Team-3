{
 "cells": [
  {
   "cell_type": "markdown",
   "id": "a26861ef-53a2-42b4-addb-70d57493dbb1",
   "metadata": {},
   "source": [
    "\n",
    "TestMauricia"
   ]
  },
  {
   "cell_type": "code",
   "execution_count": null,
   "id": "2fbf6cbb-be26-4bb3-acb2-769ab379af5c",
   "metadata": {},
   "outputs": [],
   "source": []
  }
 ],
 "metadata": {
  "kernelspec": {
   "display_name": "Python 3",
   "language": "python",
   "name": "python3"
  },
  "language_info": {
   "codemirror_mode": {
    "name": "ipython",
    "version": 3
   },
   "file_extension": ".py",
   "mimetype": "text/x-python",
   "name": "python",
   "nbconvert_exporter": "python",
   "pygments_lexer": "ipython3",
   "version": "3.7.3"
  }
 },
 "nbformat": 4,
 "nbformat_minor": 5
}
