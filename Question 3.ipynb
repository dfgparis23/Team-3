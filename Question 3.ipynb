{
 "cells": [
  {
   "cell_type": "code",
   "execution_count": 6,
   "id": "a76bc805-cff9-4806-9e47-6d2671b32094",
   "metadata": {},
   "outputs": [],
   "source": [
    "import pandas as pd\n",
    "import numpy as np\n",
    "from sklearn.model_selection import train_test_split\n",
    "from sklearn.ensemble import RandomForestRegressor\n",
    "from sklearn.metrics import accuracy_score\n",
    "from sklearn.metrics import mean_absolute_error\n",
    "from sklearn.preprocessing import LabelEncoder, OneHotEncoder\n",
    "import matplotlib.pyplot as plt"
   ]
  },
  {
   "cell_type": "code",
   "execution_count": 7,
   "id": "451f1761-d6a4-4072-86f6-e4c0643c8a6e",
   "metadata": {},
   "outputs": [],
   "source": [
    "business_account = pd.read_excel(\"../shared_data_read_only/Business Account.xlsx\")\n",
    "consumer_price_index = pd.read_excel(\"../shared_data_read_only/consumer_price_index.xlsx\")\n",
    "contacts = pd.read_excel(\"../shared_data_read_only/Contacts.xlsx\")\n",
    "data_dictionary = pd.read_excel(\"../shared_data_read_only/Data dictionary.xlsx\")\n",
    "invoice_opportunities = pd.read_excel(\"../shared_data_read_only/Invoice and Opportunities.xlsx\")\n",
    "items_opportunities = pd.read_excel(\"../shared_data_read_only/Items and Opportunities.xlsx\")\n",
    "non_stock_items = pd.read_excel(\"../shared_data_read_only/Non-Stock Items.xlsx\")\n",
    "opportunities = pd.read_excel(\"../shared_data_read_only/Opportunities.xlsx\")"
   ]
  },
  {
   "cell_type": "code",
   "execution_count": 8,
   "id": "e3b1bd27-8b3f-41c8-bd64-0ee2537a0c8a",
   "metadata": {},
   "outputs": [
    {
     "name": "stdout",
     "output_type": "stream",
     "text": [
      "816\n"
     ]
    }
   ],
   "source": [
    "# Clean Countries\n",
    "business_account[\"Country Name\"].unique()\n",
    "uncorrect=[\"Belgique\",'Royaume-Uni','États-Unis',\"Suisse\",\"Allemagne\",\"Espagne\"]\n",
    "correct=['Belgium','United Kingdom of Great Britain and Northern Ireland','United States of America','Switzerland',\"Germany\",\"Spain\"]\n",
    "for k in range(len(uncorrect)):\n",
    "    business_account[business_account['Country Name']==uncorrect[k]]=correct[k]\n",
    "\n",
    "business_account[\"Country Name\"].unique()\n",
    "\n",
    "business_temp=business_account.copy(deep=True)\n",
    "\n",
    "# Clean for Paris\n",
    "for k in range(len(business_temp)):\n",
    "    \n",
    "    if \"paris\" in str(business_temp.iloc[k,:]['City']).lower():\n",
    "        business_temp.loc[k,\"City\"]=\"paris\"\n",
    "\n",
    "print(len(business_temp['City'].unique()))\n",
    "len(business_account['City'].unique())\n",
    "\n",
    "# From Postal Code obtain department, for France\n",
    "business_temp[\"Dep\"]=business_temp[\"Postal Code\"].apply(lambda x: str(x)[:2])\n",
    "\n",
    "# For France : department, for other countries : Country Name\n",
    "business_temp.loc[business_temp['Country Name']!=\"France\",\"Dep\"]=business_temp['Country Name']\n",
    "business_temp.loc[business_temp['Postal Code'].isna(),\"Dep\"]=business_temp['Country Name']"
   ]
  },
  {
   "cell_type": "code",
   "execution_count": 9,
   "id": "f351f9c3-fca1-4622-bd48-82608dcef223",
   "metadata": {},
   "outputs": [
    {
     "name": "stdout",
     "output_type": "stream",
     "text": [
      "4108\n",
      "2572\n"
     ]
    }
   ],
   "source": [
    "# We will train our models on won opportunities, which have received all payments\n",
    "\n",
    "df_won=opportunities[opportunities['Status']==\"Won\"]\n",
    "print(len(df_won))\n",
    "print(len(df_won[~df_won['Amount received'].isna()]))"
   ]
  },
  {
   "cell_type": "code",
   "execution_count": 15,
   "id": "f7fa87e6-c86d-441f-bdfc-6ac21d2cc7f3",
   "metadata": {},
   "outputs": [],
   "source": [
    "# Remove na which have not received any payment : discrepencies in data ?\n",
    "df_won_f=df_won[~df_won['Amount received'].isna()]\n",
    "\n",
    "# Filter on relevant columns\n",
    "df_won_filtered=df_won_f[['Opportunity ID','Business Account','Status','Stage','Amount received','Estimated amount','Created On','Actual Close Date']]\n",
    "\n",
    "\n",
    "# Merge opportunities on transformed business acount dataframe in order to add information on the its country, sector, partner type\n",
    "df_won__tot=pd.merge(df_won_filtered,business_temp[['Business Account','Country Name','Activity sector','Partner type']],on=\"Business Account\")\n",
    "\n",
    "# We compute the target output for known data : number of payments and the average amount received per payment\n",
    "# We would like to study time average weighted by amount received (not studied)\n",
    "for row in df_won__tot.index:\n",
    "    try:\n",
    "        id = df_won__tot.loc[row, \"Opportunity ID\"]\n",
    "        invoice_opportunities_filter = invoice_opportunities[invoice_opportunities[\"Opportunity ID\"] == id]\n",
    "        y_mean = invoice_opportunities_filter[\"Amount\"].mean()\n",
    "        nb_p = len(invoice_opportunities_filter[\"Amount\"])\n",
    "        df_won__tot.loc[row,\"y_mean\"] = y_mean\n",
    "        df_won__tot.loc[row,\"nb_p\"] = nb_p\n",
    "        \n",
    "        y = invoice_opportunities_filter\n",
    "    except Exception as e:\n",
    "        print(e)\n",
    "        pass\n",
    "\n",
    "df_won__tot[\"Delta t\"]=(df_won__tot[\"Actual Close Date\"]-df_won__tot[\"Created On\"])"
   ]
  },
  {
   "cell_type": "code",
   "execution_count": 16,
   "id": "31b4dc71-c4a7-4803-a363-ddf9d19c6718",
   "metadata": {},
   "outputs": [
    {
     "name": "stderr",
     "output_type": "stream",
     "text": [
      "/opt/tljh/user/lib/python3.7/site-packages/pandas/core/indexing.py:1676: SettingWithCopyWarning: \n",
      "A value is trying to be set on a copy of a slice from a DataFrame.\n",
      "Try using .loc[row_indexer,col_indexer] = value instead\n",
      "\n",
      "See the caveats in the documentation: https://pandas.pydata.org/pandas-docs/stable/user_guide/indexing.html#returning-a-view-versus-a-copy\n",
      "  self._setitem_single_column(ilocs[0], value, pi)\n",
      "/opt/tljh/user/lib/python3.7/site-packages/pandas/core/indexing.py:1720: SettingWithCopyWarning: \n",
      "A value is trying to be set on a copy of a slice from a DataFrame.\n",
      "Try using .loc[row_indexer,col_indexer] = value instead\n",
      "\n",
      "See the caveats in the documentation: https://pandas.pydata.org/pandas-docs/stable/user_guide/indexing.html#returning-a-view-versus-a-copy\n",
      "  self._setitem_single_column(loc, value, pi)\n",
      "/opt/tljh/user/lib/python3.7/site-packages/ipykernel_launcher.py:13: SettingWithCopyWarning: \n",
      "A value is trying to be set on a copy of a slice from a DataFrame.\n",
      "Try using .loc[row_indexer,col_indexer] = value instead\n",
      "\n",
      "See the caveats in the documentation: https://pandas.pydata.org/pandas-docs/stable/user_guide/indexing.html#returning-a-view-versus-a-copy\n",
      "  del sys.path[0]\n",
      "/opt/tljh/user/lib/python3.7/site-packages/ipykernel_launcher.py:14: SettingWithCopyWarning: \n",
      "A value is trying to be set on a copy of a slice from a DataFrame\n",
      "\n",
      "See the caveats in the documentation: https://pandas.pydata.org/pandas-docs/stable/user_guide/indexing.html#returning-a-view-versus-a-copy\n",
      "  \n"
     ]
    }
   ],
   "source": [
    "# Creation of the training dataset by labelling our features\n",
    "df_train=df_won__tot.loc[:,~df_won__tot.columns.isin([\"Amount received\",\"Status\",\"Opportunity ID\",\"Actual Close Date\",\"Created On\"])]\n",
    "label_encoder = LabelEncoder()\n",
    "df_train.loc[:,\"Business Account\"]=df_train.loc[:,\"Business Account\"].apply(lambda x:int(x[1:]))\n",
    "df_train.loc[:,'Activity sector'] = pd.Series(label_encoder.fit_transform(df_train['Activity sector']))\n",
    "df_train.loc[:,'Country Name'] = pd.Series(label_encoder.fit_transform(df_train['Country Name']))\n",
    "df_train.loc[:,'Partner type'] = pd.Series(label_encoder.fit_transform(df_train['Partner type']))\n",
    "df_train.loc[df_train['Stage']==\"Won\",\"Stage\"]=5\n",
    "df_train.loc[df_train['Stage']==\"Oral agreement\",\"Stage\"]=4\n",
    "df_train.loc[df_train['Stage']==\"Advanced Prospect\",\"Stage\"]=3\n",
    "df_train.loc[df_train['Stage']==\"Dossier posed\",\"Stage\"]=2\n",
    "df_train.loc[df_train['Stage']==\"Initial Prospect\",\"Stage\"]=1\n",
    "df_train['Delta t']=df_train['Delta t'].apply(lambda x:x.days)\n",
    "df_train.dropna(inplace=True)\n",
    "\n",
    "# target : average amount received\n",
    "X, y = df_train.loc[:,~df_train.columns.isin([\"y_mean\",\"nb_p\"])],  df_train.loc[:,[\"y_mean\"]]"
   ]
  },
  {
   "cell_type": "code",
   "execution_count": 17,
   "id": "9d497fc4-17af-4296-b0d6-a888074d56b0",
   "metadata": {},
   "outputs": [
    {
     "name": "stderr",
     "output_type": "stream",
     "text": [
      "/opt/tljh/user/lib/python3.7/site-packages/ipykernel_launcher.py:8: DataConversionWarning: A column-vector y was passed when a 1d array was expected. Please change the shape of y to (n_samples,), for example using ravel().\n",
      "  \n"
     ]
    },
    {
     "name": "stdout",
     "output_type": "stream",
     "text": [
      "Mean Absolute Error (MAE): 1125.67\n"
     ]
    }
   ],
   "source": [
    "# Split the dataset into training and testing sets\n",
    "X_train, X_test, y_train, y_test = train_test_split(X, y, test_size=0.2, random_state=30)\n",
    "\n",
    "# Create a Random Forest classifier\n",
    "rf_classifier = RandomForestRegressor(n_estimators=100, random_state=30)\n",
    "\n",
    "# Fit the classifier to the training data\n",
    "rf_classifier.fit(X_train, y_train)\n",
    "\n",
    "y_pred = rf_classifier.predict(X_test)\n",
    "\n",
    "# Calculate Mean Absolute Error (MAE)\n",
    "mae = mean_absolute_error(y_test, y_pred)\n",
    "print(f\"Mean Absolute Error (MAE): {mae:.2f}\")"
   ]
  },
  {
   "cell_type": "code",
   "execution_count": 18,
   "id": "ae5fdd46-ecc0-423b-a9b8-896be292c481",
   "metadata": {},
   "outputs": [
    {
     "data": {
      "text/plain": [
       "<AxesSubplot:>"
      ]
     },
     "execution_count": 18,
     "metadata": {},
     "output_type": "execute_result"
    },
    {
     "data": {
      "image/png": "[encoded data removed]",
      "text/plain": [
       "<Figure size 432x288 with 1 Axes>"
      ]
     },
     "metadata": {
      "needs_background": "light"
     },
     "output_type": "display_data"
    }
   ],
   "source": [
    "pd.concat([y_test.reset_index(drop=True),pd.DataFrame(y_pred)], axis=1).plot()\n",
    "\n",
    "\n",
    "t=pd.concat([y_test.reset_index(drop=True),pd.DataFrame(y_pred)],axis=1)\n",
    "(t.iloc[:,0]-t.iloc[:,1]).abs().plot()"
   ]
  },
  {
   "cell_type": "code",
   "execution_count": 22,
   "id": "adff3b92-31e2-4807-b050-cfdad6c8b837",
   "metadata": {},
   "outputs": [
    {
     "name": "stderr",
     "output_type": "stream",
     "text": [
      "/opt/tljh/user/lib/python3.7/site-packages/ipykernel_launcher.py:11: DataConversionWarning: A column-vector y was passed when a 1d array was expected. Please change the shape of y to (n_samples,), for example using ravel().\n",
      "  # This is added back by InteractiveShellApp.init_path()\n"
     ]
    },
    {
     "name": "stdout",
     "output_type": "stream",
     "text": [
      "Mean Absolute Error (MAE): 1783.28 for random_state = 12\n"
     ]
    },
    {
     "name": "stderr",
     "output_type": "stream",
     "text": [
      "/opt/tljh/user/lib/python3.7/site-packages/ipykernel_launcher.py:11: DataConversionWarning: A column-vector y was passed when a 1d array was expected. Please change the shape of y to (n_samples,), for example using ravel().\n",
      "  # This is added back by InteractiveShellApp.init_path()\n"
     ]
    },
    {
     "name": "stdout",
     "output_type": "stream",
     "text": [
      "Mean Absolute Error (MAE): 2472.38 for random_state = 24\n"
     ]
    },
    {
     "name": "stderr",
     "output_type": "stream",
     "text": [
      "/opt/tljh/user/lib/python3.7/site-packages/ipykernel_launcher.py:11: DataConversionWarning: A column-vector y was passed when a 1d array was expected. Please change the shape of y to (n_samples,), for example using ravel().\n",
      "  # This is added back by InteractiveShellApp.init_path()\n"
     ]
    },
    {
     "name": "stdout",
     "output_type": "stream",
     "text": [
      "Mean Absolute Error (MAE): 1125.67 for random_state = 30\n"
     ]
    },
    {
     "name": "stderr",
     "output_type": "stream",
     "text": [
      "/opt/tljh/user/lib/python3.7/site-packages/ipykernel_launcher.py:11: DataConversionWarning: A column-vector y was passed when a 1d array was expected. Please change the shape of y to (n_samples,), for example using ravel().\n",
      "  # This is added back by InteractiveShellApp.init_path()\n"
     ]
    },
    {
     "name": "stdout",
     "output_type": "stream",
     "text": [
      "Mean Absolute Error (MAE): 1100.58 for random_state = 36\n"
     ]
    },
    {
     "name": "stderr",
     "output_type": "stream",
     "text": [
      "/opt/tljh/user/lib/python3.7/site-packages/ipykernel_launcher.py:11: DataConversionWarning: A column-vector y was passed when a 1d array was expected. Please change the shape of y to (n_samples,), for example using ravel().\n",
      "  # This is added back by InteractiveShellApp.init_path()\n"
     ]
    },
    {
     "name": "stdout",
     "output_type": "stream",
     "text": [
      "Mean Absolute Error (MAE): 2288.60 for random_state = 50\n"
     ]
    },
    {
     "data": {
      "text/plain": [
       "<AxesSubplot:>"
      ]
     },
     "execution_count": 22,
     "metadata": {},
     "output_type": "execute_result"
    },
    {
     "data": {
      "image/png": "[encoded data removed]",
      "text/plain": [
       "<Figure size 432x288 with 1 Axes>"
      ]
     },
     "metadata": {
      "needs_background": "light"
     },
     "output_type": "display_data"
    }
   ],
   "source": [
    "# fine-tuning of random_state parameter\n",
    "value_mae=[]\n",
    "for k in [12, 24, 30, 36, 50]:\n",
    "    # Split the dataset into training and testing sets\n",
    "    X_train, X_test, y_train, y_test = train_test_split(X, y, test_size=0.2, random_state=k)\n",
    "\n",
    "    # Create a Random Forest classifier\n",
    "    rf_classifier = RandomForestRegressor(n_estimators=100, random_state=k)\n",
    "\n",
    "    # Fit the classifier to the training data\n",
    "    rf_classifier.fit(X_train, y_train)\n",
    "\n",
    "    y_pred = rf_classifier.predict(X_test)\n",
    "\n",
    "    # Calculate Mean Absolute Error (MAE)\n",
    "    mae = mean_absolute_error(y_test, y_pred)\n",
    "    value_mae.append(mae)\n",
    "    print(f\"Mean Absolute Error (MAE): {mae:.2f} for random_state = {k}\")\n",
    "\n",
    "pd.DataFrame({\"random_state\": [12, 24, 30, 36, 50], \"mae\": value_mae}).plot()"
   ]
  },
  {
   "cell_type": "code",
   "execution_count": 20,
   "id": "468d8cad-240b-49fc-b234-5cda35dea801",
   "metadata": {},
   "outputs": [
    {
     "name": "stderr",
     "output_type": "stream",
     "text": [
      "/opt/tljh/user/lib/python3.7/site-packages/ipykernel_launcher.py:9: DataConversionWarning: A column-vector y was passed when a 1d array was expected. Please change the shape of y to (n_samples,), for example using ravel().\n",
      "  if __name__ == '__main__':\n"
     ]
    },
    {
     "name": "stdout",
     "output_type": "stream",
     "text": [
      "Mean Absolute Error (MAE): 1100.58\n"
     ]
    },
    {
     "data": {
      "text/plain": [
       "<AxesSubplot:title={'center':'(Amount Predicted-Real Amount Given)/Real Amount Given'}>"
      ]
     },
     "execution_count": 20,
     "metadata": {},
     "output_type": "execute_result"
    },
    {
     "data": {
      "image/png": "[encoded data removed]",
      "text/plain": [
       "<Figure size 432x288 with 1 Axes>"
      ]
     },
     "metadata": {
      "needs_background": "light"
     },
     "output_type": "display_data"
    }
   ],
   "source": [
    "# We keep random_state = 36\n",
    "# Split the dataset into training and testing sets\n",
    "X_train, X_test, y_train, y_test = train_test_split(X, y, test_size=0.2, random_state=36)\n",
    "\n",
    "# Create a Random Forest classifier\n",
    "rf_classifier = RandomForestRegressor(n_estimators=100, random_state=36)\n",
    "\n",
    "# Fit the classifier to the training data\n",
    "rf_classifier.fit(X_train, y_train)\n",
    "\n",
    "y_pred = rf_classifier.predict(X_test)\n",
    "\n",
    "# Calculate Mean Absolute Error (MAE)\n",
    "mae = mean_absolute_error(y_test, y_pred)\n",
    "print(f\"Mean Absolute Error (MAE): {mae:.2f}\")\n",
    "\n",
    "\n",
    "# Plot the relative error \n",
    "t=pd.concat([y_test.reset_index(drop=True),pd.DataFrame(y_pred)],axis=1)\n",
    "((t.iloc[:,0]-t.iloc[:,1])/t.iloc[:,1]).abs().plot(title=\"(Amount Predicted-Real Amount Given)/Real Amount Given\")\n"
   ]
  }
 ],
 "metadata": {
  "kernelspec": {
   "display_name": "Python 3",
   "language": "python",
   "name": "python3"
  },
  "language_info": {
   "codemirror_mode": {
    "name": "ipython",
    "version": 3
   },
   "file_extension": ".py",
   "mimetype": "text/x-python",
   "name": "python",
   "nbconvert_exporter": "python",
   "pygments_lexer": "ipython3",
   "version": "3.7.3"
  }
 },
 "nbformat": 4,
 "nbformat_minor": 5
}
