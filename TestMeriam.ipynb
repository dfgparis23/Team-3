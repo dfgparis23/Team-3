{
 "cells": [
  {
   "cell_type": "code",
   "execution_count": 1,
   "id": "66e4db52-bea1-4f07-a33e-3ddb6fcd3f72",
   "metadata": {},
   "outputs": [
    {
     "name": "stdout",
     "output_type": "stream",
     "text": [
      "Meriam\n"
     ]
    }
   ],
   "source": [
    "print(\"Meriam\")"
   ]
  },
  {
   "cell_type": "code",
   "execution_count": null,
   "id": "af72bbcf-4204-416b-b5f1-0d1d19386a59",
   "metadata": {},
   "outputs": [],
   "source": []
  }
 ],
 "metadata": {
  "kernelspec": {
   "display_name": "Python 3",
   "language": "python",
   "name": "python3"
  },
  "language_info": {
   "codemirror_mode": {
    "name": "ipython",
    "version": 3
   },
   "file_extension": ".py",
   "mimetype": "text/x-python",
   "name": "python",
   "nbconvert_exporter": "python",
   "pygments_lexer": "ipython3",
   "version": "3.7.3"
  }
 },
 "nbformat": 4,
 "nbformat_minor": 5
}
