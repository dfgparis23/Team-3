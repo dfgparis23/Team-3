{
 "cells": [
  {
   "cell_type": "code",
   "execution_count": 1,
   "id": "5d90a403-6f0f-41c7-b4f7-39dba2138d62",
   "metadata": {},
   "outputs": [],
   "source": [
    "import pandas as pd\n",
    "import numpy as np"
   ]
  },
  {
   "cell_type": "code",
   "execution_count": null,
   "id": "1b4c5a7b-b335-43cf-bb72-6816c711fa07",
   "metadata": {},
   "outputs": [],
   "source": [
    "business_account = pd.read_excel(\"../shared_data_read_only/Business Account.xlsx\")\n",
    "consumer_price_index = pd.read_excel(\"../shared_data_read_only/consumer_price_index.xlsx\")\n",
    "contacts = pd.read_excel(\"../shared_data_read_only/Contacts.xlsx\")\n",
    "data_dictionary = pd.read_excel(\"../shared_data_read_only/Data dictionary.xlsx\")\n",
    "invoice_opportunities = pd.read_excel(\"../shared_data_read_only/Invoice and Opportunities.xlsx\")\n",
    "items_opportunities = pd.read_excel(\"../shared_data_read_only/Items and Opportunities.xlsx\")\n",
    "non_stock_items = pd.read_excel(\"../shared_data_read_only/Non.xlsx\")\n",
    "opportunities = pd.read_excel(\"../shared_data_read_only/Business Account.xlsx\")"
   ]
  }
 ],
 "metadata": {
  "kernelspec": {
   "display_name": "Python 3",
   "language": "python",
   "name": "python3"
  },
  "language_info": {
   "codemirror_mode": {
    "name": "ipython",
    "version": 3
   },
   "file_extension": ".py",
   "mimetype": "text/x-python",
   "name": "python",
   "nbconvert_exporter": "python",
   "pygments_lexer": "ipython3",
   "version": "3.7.3"
  }
 },
 "nbformat": 4,
 "nbformat_minor": 5
}
