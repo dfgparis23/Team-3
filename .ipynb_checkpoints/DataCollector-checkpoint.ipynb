{
 "cells": [
  {
   "cell_type": "code",
   "execution_count": null,
   "id": "30f4c089-8c6e-41eb-9366-2c0ded86625b",
   "metadata": {},
   "outputs": [],
   "source": [
    "import pandas as pd\n",
    "import numpy as np"
   ]
  },
  {
   "cell_type": "code",
   "execution_count": null,
   "id": "edc510d3-72e9-4943-9df0-ee729cb137ae",
   "metadata": {},
   "outputs": [],
   "source": [
    "business_account = pd.read_excel(\"../shared_data_read_only/Business Account.xlsx\")\n",
    "consumer_price_index = pd.read_excel(\"../shared_data_read_only/consumer_price_index.xlsx\")\n",
    "contacts = pd.read_excel(\"../shared_data_read_only/Contacts.xlsx\")\n",
    "data_dictionary = pd.read_excel(\"../shared_data_read_only/Data dictionary.xlsx\")\n",
    "invoice_opportunities = pd.read_excel(\"../shared_data_read_only/Invoice and Opportunities.xlsx\")\n",
    "items_opportunities = pd.read_excel(\"../shared_data_read_only/Items and Opportunities.xlsx\")\n",
    "non_stock_items = pd.read_excel(\"../shared_data_read_only/Non-Stock Items.xlsx\")\n",
    "opportunities = pd.read_excel(\"../shared_data_read_only/Opportunities.xlsx\")"
   ]
  },
  {
   "cell_type": "code",
   "execution_count": null,
   "id": "dc179e1a-16b1-49bb-930a-c9d9f4d37013",
   "metadata": {},
   "outputs": [],
   "source": [
    "opportunities"
   ]
  },
  {
   "cell_type": "code",
   "execution_count": null,
   "id": "e53b9718-2198-49c6-8a91-d71ab9b05b28",
   "metadata": {},
   "outputs": [],
   "source": [
    "print(opportunities.isna().sum())"
   ]
  },
  {
   "cell_type": "code",
   "execution_count": null,
   "id": "f66419a3-9902-4da7-8a04-86d782b0c334",
   "metadata": {},
   "outputs": [],
   "source": [
    "opportunities_table = opportunities.join(items_opportunities, on=\"Opportunity ID\",lsuffix='_left', rsuffix='_right')"
   ]
  },
  {
   "cell_type": "code",
   "execution_count": null,
   "id": "72ceb251-3b5c-4a8f-ae5b-7c53f67e64c5",
   "metadata": {},
   "outputs": [],
   "source": [
    "opportunities_table"
   ]
  },
  {
   "cell_type": "code",
   "execution_count": null,
   "id": "976d46a9-b343-4cfb-8cfb-12fc869c85af",
   "metadata": {},
   "outputs": [],
   "source": [
    "question1_df = business_account.join(opportunities, on = \"Business Account\", lsuffix='_left', rsuffix='_right')"
   ]
  },
  {
   "cell_type": "code",
   "execution_count": null,
   "id": "5ec0a33c-1035-493a-a7cf-d93accd18b76",
   "metadata": {},
   "outputs": [],
   "source": []
  }
 ],
 "metadata": {
  "kernelspec": {
   "display_name": "Python 3",
   "language": "python",
   "name": "python3"
  },
  "language_info": {
   "codemirror_mode": {
    "name": "ipython",
    "version": 3
   },
   "file_extension": ".py",
   "mimetype": "text/x-python",
   "name": "python",
   "nbconvert_exporter": "python",
   "pygments_lexer": "ipython3",
   "version": "3.7.3"
  }
 },
 "nbformat": 4,
 "nbformat_minor": 5
}
